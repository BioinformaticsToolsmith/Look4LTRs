{
 "cells": [
  {
   "cell_type": "code",
   "execution_count": 66,
   "metadata": {},
   "outputs": [],
   "source": [
    "from Bio import SeqIO\n",
    "from Bio.Seq import Seq\n",
    "import os\n",
    "import statistics as stat"
   ]
  },
  {
   "cell_type": "code",
   "execution_count": 67,
   "metadata": {},
   "outputs": [],
   "source": [
    "bed_dir = \"/home/transposons/Genomes/TAIR10/BedDir/GsBed/\"\n",
    "fasta_dir = \"/home/transposons/Genomes/TAIR10/Fasta/\"\n",
    "assert os.path.exists(bed_dir)\n",
    "assert os.path.exists(fasta_dir)"
   ]
  },
  {
   "cell_type": "code",
   "execution_count": 68,
   "metadata": {},
   "outputs": [],
   "source": [
    "bed_list = [bed_dir + \"/\" + name for name in os.listdir(bed_dir)]\n",
    "fasta_list = [fasta_dir + \"/\" + name for name in os.listdir(fasta_dir)]\n",
    "assert len(bed_list) == len(fasta_list)"
   ]
  },
  {
   "cell_type": "code",
   "execution_count": 69,
   "metadata": {},
   "outputs": [],
   "source": [
    "def sort_key(file_name):\n",
    "    data = file_name.split('_')  \n",
    "    genome_name, chr_name = '_'.join(data[:-1]), data[-1].split('.')[0] # Extract the genome and chromosome names from the file name\n",
    "    return (genome_name, int(chr_name.replace('chr', '')))  # Sort by genome name, then chromosome number"
   ]
  },
  {
   "cell_type": "code",
   "execution_count": 70,
   "metadata": {},
   "outputs": [],
   "source": [
    "bed_list.sort(key=sort_key)\n",
    "fasta_list.sort(key=sort_key)"
   ]
  },
  {
   "cell_type": "code",
   "execution_count": 71,
   "metadata": {},
   "outputs": [
    {
     "name": "stdout",
     "output_type": "stream",
     "text": [
      "TAIR10_chr1.bed TAIR10_chr1.fa\n",
      "TAIR10_chr2.bed TAIR10_chr2.fa\n",
      "TAIR10_chr3.bed TAIR10_chr3.fa\n",
      "TAIR10_chr4.bed TAIR10_chr4.fa\n",
      "TAIR10_chr5.bed TAIR10_chr5.fa\n"
     ]
    }
   ],
   "source": [
    "for i in range(len(bed_list)):\n",
    "    print(os.path.basename(bed_list[i]), os.path.basename(fasta_list[i]))"
   ]
  },
  {
   "cell_type": "code",
   "execution_count": 92,
   "metadata": {},
   "outputs": [],
   "source": [
    "def get_alignment(seq1, seq2, match, mismatch, gap_open, gap_continue):\n",
    "    score_matrix = [[0 for x in range(len(seq2) + 1)] for y in range(len(seq1) + 1)]\n",
    "    del_gap_matrix = [[0 for x in range(len(seq2) + 1)] for y in range(len(seq1) + 1)]\n",
    "    ins_gap_matrix = [[0 for x in range(len(seq2) + 1)] for y in range(len(seq1) + 1)]\n",
    "\n",
    "    max_score = 0\n",
    "    max_i = 0\n",
    "    max_j = 0\n",
    "\n",
    "    for i in range(1, len(seq1) + 1):\n",
    "        for j in range(1, len(seq2) + 1):\n",
    "            m = match if seq1[i - 1] == seq2[j - 1] else mismatch\n",
    "            m += score_matrix[i - 1][j - 1]\n",
    "\n",
    "\n",
    "            del_gap_matrix[i][j] = max(score_matrix[i - 1][j] + gap_open, del_gap_matrix[i - 1][j] + gap_continue)\n",
    "            ins_gap_matrix[i][j] = max(score_matrix[i][j-1] + gap_open, ins_gap_matrix[i][j - 1] + gap_continue)\n",
    "            score_matrix[i][j] = max(m, del_gap_matrix[i][j], ins_gap_matrix[i][j], 0)\n",
    "\n",
    "            if score_matrix[i][j] > max_score:\n",
    "                max_score = score_matrix[i][j]\n",
    "                max_i = i\n",
    "                max_j = j\n",
    "\n",
    "    i = max_i\n",
    "    j = max_j\n",
    "    loc_align = 0\n",
    "    sim_counter = 0\n",
    "\n",
    "    while score_matrix[i][j] > 0:\n",
    "        s = match if seq1[i - 1] == seq2[j - 1] else mismatch\n",
    "        if score_matrix[i][j] == score_matrix[i - 1][j - 1] + s:\n",
    "            if s == match:\n",
    "                sim_counter += 1\n",
    "            i -= 1\n",
    "            j -=1\n",
    "\n",
    "        elif score_matrix[i][j] == del_gap_matrix[i][j]:\n",
    "            i -= 1\n",
    "        else:\n",
    "            j -=1\n",
    "\n",
    "        loc_align += 1\n",
    "    \n",
    "    return loc_align, sim_counter\n"
   ]
  },
  {
   "cell_type": "code",
   "execution_count": 93,
   "metadata": {},
   "outputs": [
    {
     "data": {
      "text/plain": [
       "(5, 4)"
      ]
     },
     "execution_count": 93,
     "metadata": {},
     "output_type": "execute_result"
    }
   ],
   "source": [
    "get_alignment(\"CCCCAATAAGGG\", \"AAAAAAAAAA\", 2, -3, -5, -2)\n"
   ]
  },
  {
   "cell_type": "code",
   "execution_count": 74,
   "metadata": {},
   "outputs": [],
   "source": [
    "def read_bed(path):\n",
    "    l = []\n",
    "    with open(path, 'r') as file:\n",
    "        for line in file.readlines()[1:]:\n",
    "            data = line.split()\n",
    "            l.append([int(x) for x in data[3:7]])\n",
    "\n",
    "    return l"
   ]
  },
  {
   "cell_type": "code",
   "execution_count": 75,
   "metadata": {},
   "outputs": [],
   "source": [
    "min_tir_size = 15\n",
    "max_mite_size = 800\n",
    "tir_search_range = 30"
   ]
  },
  {
   "cell_type": "code",
   "execution_count": 76,
   "metadata": {},
   "outputs": [],
   "source": [
    "def find_mite_length(seq):\n",
    "\n",
    "    r = False\n",
    "\n",
    "    if len(seq) >= min_tir_size * 2 and len(seq) <= max_mite_size:\n",
    "        if len(seq) > tir_search_range * 2:\n",
    "            left_seq = seq[:tir_search_range]\n",
    "            right_seq = seq[len(seq) - tir_search_range:]\n",
    "        else:\n",
    "            half = int(len(seq) / 2)\n",
    "            left_seq = seq[:half]\n",
    "            right_seq = seq[half:]\n",
    "\n",
    "        right_seq = str(Seq(right_seq).reverse_complement())\n",
    "\n",
    "        r = get_alignment(left_seq, right_seq, 2, -3, -5, -2)\n",
    "\n",
    "    return r"
   ]
  },
  {
   "cell_type": "code",
   "execution_count": 101,
   "metadata": {},
   "outputs": [
    {
     "name": "stdout",
     "output_type": "stream",
     "text": [
      "TAIR10_chr1.bed\n",
      "TAIR10_chr2.bed\n",
      "TAIR10_chr3.bed\n",
      "TAIR10_chr4.bed\n",
      "TAIR10_chr5.bed\n"
     ]
    }
   ],
   "source": [
    "mite_counter = 0\n",
    "length_list = []\n",
    "seq_list = []\n",
    "for fasta_path, bed_path in zip(fasta_list, bed_list):\n",
    "    print(os.path.basename(bed_path))\n",
    "    seq = str(SeqIO.read(fasta_path, 'fasta').seq)\n",
    "\n",
    "    for ele in read_bed(bed_path):\n",
    "\n",
    "        left = seq[ele[0]:ele[1]]\n",
    "        left_align = find_mite_length(left)\n",
    "        right = seq[ele[2]:ele[3]]\n",
    "        right_align = find_mite_length(right)\n",
    "\n",
    "        if left_align and left_align[0] >= min_tir_size and right_align[0] >= min_tir_size:\n",
    "            if left_align[1] / left_align[0] >= 0.85 and right_align[1] / right_align[0] >= 0.85:\n",
    "                mite_counter += 1\n",
    "                length_list.append(left_align[0])\n",
    "                length_list.append(right_align[0])   \n",
    "                seq_list.append((left, right))     \n",
    "\n",
    "        # if right_length >= min_tir_size:\n",
    "        #     mite_counter += 1\n",
    "        #     length_list.append(right_length)"
   ]
  },
  {
   "cell_type": "code",
   "execution_count": 102,
   "metadata": {},
   "outputs": [
    {
     "name": "stdout",
     "output_type": "stream",
     "text": [
      "0\n"
     ]
    }
   ],
   "source": [
    "print(mite_counter)"
   ]
  },
  {
   "cell_type": "code",
   "execution_count": 97,
   "metadata": {},
   "outputs": [
    {
     "name": "stdout",
     "output_type": "stream",
     "text": [
      "Mean: 16\n",
      "Median 15.0\n",
      "STD: 2.1908902300206643\n",
      "Min: 15\n",
      "Max: 23\n"
     ]
    }
   ],
   "source": [
    "print(\"Mean:\", stat.mean(length_list))\n",
    "print(\"Median\", stat.median(length_list))\n",
    "print(\"STD:\", stat.stdev(length_list))\n",
    "print(\"Min:\", min(length_list))\n",
    "print(\"Max:\", max(length_list))"
   ]
  },
  {
   "cell_type": "code",
   "execution_count": 98,
   "metadata": {},
   "outputs": [
    {
     "name": "stdout",
     "output_type": "stream",
     "text": [
      "177\n"
     ]
    }
   ],
   "source": [
    "total_count = 0\n",
    "for path in bed_list:\n",
    "    total_count += len(read_bed(path))\n",
    "print(total_count)"
   ]
  },
  {
   "cell_type": "code",
   "execution_count": 87,
   "metadata": {},
   "outputs": [
    {
     "data": {
      "text/plain": [
       "[15, 15, 15, 15, 15, 15, 19, 23, 15, 15, 17, 17, 15, 15, 15, 15]"
      ]
     },
     "execution_count": 87,
     "metadata": {},
     "output_type": "execute_result"
    }
   ],
   "source": [
    "length_list"
   ]
  },
  {
   "cell_type": "code",
   "execution_count": 89,
   "metadata": {},
   "outputs": [
    {
     "data": {
      "text/plain": [
       "('GTTGAAAGTTAAACTTGATTTTGAATCAAGTTTAATTATTGGATCAATTATCCAATAATTAATTATGGCCAAATCCAAGTTCTAGAGTTTTCTCTAGAAATATCATCATTTCCACCTCCTTAAAAGATTCTAGAAATTTTCTAGAATCATCTTCCACCTCCTTAAACATAAAAATCTAGATACTCTAATAGAATAATCTAGATAATTTGAATAATGTAATCTAGATCTTATGTAAGAACTCTCTAGACTTAGGATTAAAATATTTTAGATATTTTGTAGTTTGGAGGCTATAAATACCTCCTCCCCCTCTCAAATGTTGCAATGTTGTGAAGTTGTATTCAAGTTTAAAGCAAAGTAATAAAAGTTCTATTTCCTAAAAAACTCTCTCAAAACACTTAAACACTTTCTCCATTACCTCTAAAAGAATTTTACTCTAACA',\n",
       " 'GTTGAAAGTTAAACTTGATTTTGAATCAAGTTTAATTATTGGATCAATTATCCAATAATTAATTATGGCCAAATCCAAGTTCTAGAGTTTTCTCTAGAAATATCATCATTTCCACCTCCTTAAAAGATTCTAGAAATTTTCTAGAATCATCTTCCACCTCCTTAAACATAAAAATCTAGATACTCTAATAGAATAATCTAGATAATTTGAATAATGTAATCTAGATCTTATGTAAGAACTCTCTAGACTTAGGATTAAAATATTTTAGATATTTTGTAGTTTGGAGGCTATAAATACCTCCTCCCCCTCTCAAATGTTGCAATGTTGTGAAGTTGTATTCAAGTTTAAAGCAAAGTAATAAAAGTTCTATTTCCTAAAAAACTCTCTCAAAACACTTAAACACTTTCTCCATTACCTCTAAAAGAATTTTACTCTAACA')"
      ]
     },
     "execution_count": 89,
     "metadata": {},
     "output_type": "execute_result"
    }
   ],
   "source": [
    "seq_list[0]"
   ]
  },
  {
   "cell_type": "code",
   "execution_count": null,
   "metadata": {},
   "outputs": [],
   "source": []
  }
 ],
 "metadata": {
  "kernelspec": {
   "display_name": "Python 3.6.9 64-bit",
   "language": "python",
   "name": "python3"
  },
  "language_info": {
   "codemirror_mode": {
    "name": "ipython",
    "version": 3
   },
   "file_extension": ".py",
   "mimetype": "text/x-python",
   "name": "python",
   "nbconvert_exporter": "python",
   "pygments_lexer": "ipython3",
   "version": "3.6.9"
  },
  "orig_nbformat": 4,
  "vscode": {
   "interpreter": {
    "hash": "30295c5bec572e859485b1ffa5e89b8b3e2022ef6e3e739c1ac40f143a557caf"
   }
  }
 },
 "nbformat": 4,
 "nbformat_minor": 2
}
