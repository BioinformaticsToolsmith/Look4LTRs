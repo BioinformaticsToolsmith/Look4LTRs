{
 "cells": [
  {
   "cell_type": "code",
   "execution_count": 5,
   "metadata": {},
   "outputs": [],
   "source": [
    "from Bio import SeqIO\n",
    "from Bio.Seq import Seq\n",
    "import os\n",
    "import statistics as stat"
   ]
  },
  {
   "cell_type": "code",
   "execution_count": 6,
   "metadata": {},
   "outputs": [],
   "source": [
    "bed_dir_list = [\"/home/transposons/Genomes/TAIR10/BedDir/GsBed/\", \"/home/transposons/Genomes/Oryza_sativa/BedDir/GsBed/\", \"/home/transposons/Genomes/Glycine_max/BedDir/GsBed/\", \"/home/transposons/Genomes/Sorghum_bicolor/BedDir/GsBed/\"]\n",
    "fasta_dir_list = [\"/home/transposons/Genomes/TAIR10/Fasta/\", \"/home/transposons/Genomes/Oryza_sativa/Fasta/\", \"/home/transposons/Genomes/Glycine_max/Fasta/\", \"/home/transposons/Genomes/Sorghum_bicolor/Fasta/\"]\n",
    "for path in bed_dir_list:\n",
    "    assert os.path.exists(path)\n",
    "for path in fasta_dir_list:\n",
    "    assert os.path.exists(path)\n"
   ]
  },
  {
   "cell_type": "code",
   "execution_count": 7,
   "metadata": {},
   "outputs": [],
   "source": [
    "bed_list = [[bed_dir + \"/\" + name for name in os.listdir(bed_dir)] for bed_dir in bed_dir_list]\n",
    "fasta_list = [[fasta_dir + \"/\" + name for name in os.listdir(fasta_dir)] for fasta_dir in fasta_dir_list]\n",
    "assert len(bed_list) == len(fasta_list)"
   ]
  },
  {
   "cell_type": "code",
   "execution_count": 8,
   "metadata": {},
   "outputs": [],
   "source": [
    "# unpack every inner list into a singular list\n",
    "bed_list = [item for sublist in bed_list for item in sublist]\n",
    "fasta_list = [item for sublist in fasta_list for item in sublist]"
   ]
  },
  {
   "cell_type": "code",
   "execution_count": 9,
   "metadata": {},
   "outputs": [],
   "source": [
    "def sort_key(file_name):\n",
    "    data = file_name.split('_')  \n",
    "    genome_name, chr_name = '_'.join(data[:-1]), data[-1].split('.')[0] # Extract the genome and chromosome names from the file name\n",
    "    return (genome_name, int(chr_name.replace('chr', '')))  # Sort by genome name, then chromosome number"
   ]
  },
  {
   "cell_type": "code",
   "execution_count": 10,
   "metadata": {},
   "outputs": [],
   "source": [
    "bed_list.sort(key=sort_key)\n",
    "fasta_list.sort(key=sort_key)"
   ]
  },
  {
   "cell_type": "code",
   "execution_count": 11,
   "metadata": {},
   "outputs": [
    {
     "name": "stdout",
     "output_type": "stream",
     "text": [
      "Glycine_max_chr1.bed Glycine_max_chr1.fa\n",
      "Glycine_max_chr2.bed Glycine_max_chr2.fa\n",
      "Glycine_max_chr3.bed Glycine_max_chr3.fa\n",
      "Glycine_max_chr4.bed Glycine_max_chr4.fa\n",
      "Glycine_max_chr5.bed Glycine_max_chr5.fa\n",
      "Glycine_max_chr6.bed Glycine_max_chr6.fa\n",
      "Glycine_max_chr7.bed Glycine_max_chr7.fa\n",
      "Glycine_max_chr8.bed Glycine_max_chr8.fa\n",
      "Glycine_max_chr9.bed Glycine_max_chr9.fa\n",
      "Glycine_max_chr10.bed Glycine_max_chr10.fa\n",
      "Glycine_max_chr11.bed Glycine_max_chr11.fa\n",
      "Glycine_max_chr12.bed Glycine_max_chr12.fa\n",
      "Glycine_max_chr13.bed Glycine_max_chr13.fa\n",
      "Glycine_max_chr14.bed Glycine_max_chr14.fa\n",
      "Glycine_max_chr15.bed Glycine_max_chr15.fa\n",
      "Glycine_max_chr16.bed Glycine_max_chr16.fa\n",
      "Glycine_max_chr17.bed Glycine_max_chr17.fa\n",
      "Glycine_max_chr18.bed Glycine_max_chr18.fa\n",
      "Glycine_max_chr19.bed Glycine_max_chr19.fa\n",
      "Glycine_max_chr20.bed Glycine_max_chr20.fa\n",
      "Oryza_sativa_chr1.bed Oryza_sativa_chr1.fa\n",
      "Oryza_sativa_chr2.bed Oryza_sativa_chr2.fa\n",
      "Oryza_sativa_chr3.bed Oryza_sativa_chr3.fa\n",
      "Oryza_sativa_chr4.bed Oryza_sativa_chr4.fa\n",
      "Oryza_sativa_chr5.bed Oryza_sativa_chr5.fa\n",
      "Oryza_sativa_chr6.bed Oryza_sativa_chr6.fa\n",
      "Oryza_sativa_chr7.bed Oryza_sativa_chr7.fa\n",
      "Oryza_sativa_chr8.bed Oryza_sativa_chr8.fa\n",
      "Oryza_sativa_chr9.bed Oryza_sativa_chr9.fa\n",
      "Oryza_sativa_chr10.bed Oryza_sativa_chr10.fa\n",
      "Oryza_sativa_chr11.bed Oryza_sativa_chr11.fa\n",
      "Oryza_sativa_chr12.bed Oryza_sativa_chr12.fa\n",
      "Sorghum_bicolor_chr1.bed Sorghum_bicolor_chr1.fa\n",
      "Sorghum_bicolor_chr2.bed Sorghum_bicolor_chr2.fa\n",
      "Sorghum_bicolor_chr3.bed Sorghum_bicolor_chr3.fa\n",
      "Sorghum_bicolor_chr4.bed Sorghum_bicolor_chr4.fa\n",
      "Sorghum_bicolor_chr5.bed Sorghum_bicolor_chr5.fa\n",
      "Sorghum_bicolor_chr6.bed Sorghum_bicolor_chr6.fa\n",
      "Sorghum_bicolor_chr7.bed Sorghum_bicolor_chr7.fa\n",
      "Sorghum_bicolor_chr8.bed Sorghum_bicolor_chr8.fa\n",
      "Sorghum_bicolor_chr9.bed Sorghum_bicolor_chr9.fa\n",
      "Sorghum_bicolor_chr10.bed Sorghum_bicolor_chr10.fa\n",
      "TAIR10_chr1.bed TAIR10_chr1.fa\n",
      "TAIR10_chr2.bed TAIR10_chr2.fa\n",
      "TAIR10_chr3.bed TAIR10_chr3.fa\n",
      "TAIR10_chr4.bed TAIR10_chr4.fa\n",
      "TAIR10_chr5.bed TAIR10_chr5.fa\n"
     ]
    }
   ],
   "source": [
    "for i in range(len(bed_list)):\n",
    "    print(os.path.basename(bed_list[i]), os.path.basename(fasta_list[i]))"
   ]
  },
  {
   "cell_type": "code",
   "execution_count": 12,
   "metadata": {},
   "outputs": [],
   "source": [
    "def get_alignment(seq1, seq2, match, mismatch, gap_open, gap_continue):\n",
    "    score_matrix = [[0 for x in range(len(seq2) + 1)] for y in range(len(seq1) + 1)]\n",
    "    del_gap_matrix = [[0 for x in range(len(seq2) + 1)] for y in range(len(seq1) + 1)]\n",
    "    ins_gap_matrix = [[0 for x in range(len(seq2) + 1)] for y in range(len(seq1) + 1)]\n",
    "\n",
    "    max_score = 0\n",
    "    max_i = 0\n",
    "    max_j = 0\n",
    "\n",
    "    for i in range(1, len(seq1) + 1):\n",
    "        for j in range(1, len(seq2) + 1):\n",
    "            m = match if seq1[i - 1] == seq2[j - 1] else mismatch\n",
    "            m += score_matrix[i - 1][j - 1]\n",
    "\n",
    "\n",
    "            del_gap_matrix[i][j] = max(score_matrix[i - 1][j] + gap_open, del_gap_matrix[i - 1][j] + gap_continue)\n",
    "            ins_gap_matrix[i][j] = max(score_matrix[i][j-1] + gap_open, ins_gap_matrix[i][j - 1] + gap_continue)\n",
    "            score_matrix[i][j] = max(m, del_gap_matrix[i][j], ins_gap_matrix[i][j], 0)\n",
    "\n",
    "            if score_matrix[i][j] > max_score:\n",
    "                max_score = score_matrix[i][j]\n",
    "                max_i = i\n",
    "                max_j = j\n",
    "\n",
    "    i = max_i\n",
    "    j = max_j\n",
    "    loc_align = 0\n",
    "    sim_counter = 0\n",
    "\n",
    "    while score_matrix[i][j] > 0:\n",
    "        s = match if seq1[i - 1] == seq2[j - 1] else mismatch\n",
    "        if score_matrix[i][j] == score_matrix[i - 1][j - 1] + s:\n",
    "            if s == match:\n",
    "                sim_counter += 1\n",
    "            i -= 1\n",
    "            j -=1\n",
    "\n",
    "        elif score_matrix[i][j] == del_gap_matrix[i][j]:\n",
    "            i -= 1\n",
    "        else:\n",
    "            j -=1\n",
    "\n",
    "        loc_align += 1\n",
    "    \n",
    "    return loc_align, sim_counter\n"
   ]
  },
  {
   "cell_type": "code",
   "execution_count": 13,
   "metadata": {},
   "outputs": [
    {
     "data": {
      "text/plain": [
       "(5, 4)"
      ]
     },
     "execution_count": 13,
     "metadata": {},
     "output_type": "execute_result"
    }
   ],
   "source": [
    "get_alignment(\"CCCCAATAAGGG\", \"AAAAAAAAAA\", 2, -3, -5, -2)"
   ]
  },
  {
   "cell_type": "code",
   "execution_count": 14,
   "metadata": {},
   "outputs": [],
   "source": [
    "def read_bed(path):\n",
    "    l = []\n",
    "    with open(path, 'r') as file:\n",
    "        for line in file.readlines()[1:]:\n",
    "            data = line.split()\n",
    "            l.append([int(x) for x in data[3:7]])\n",
    "\n",
    "    return l"
   ]
  },
  {
   "cell_type": "code",
   "execution_count": 27,
   "metadata": {},
   "outputs": [],
   "source": [
    "max_ppt_distance = 400 \n",
    "min_ppt_size = 12"
   ]
  },
  {
   "cell_type": "code",
   "execution_count": 28,
   "metadata": {},
   "outputs": [],
   "source": [
    "def find_ppt(seq, replace_char, with_char):\n",
    "    replace_seq = seq.replace(replace_char, with_char)\n",
    "    seq_all = ''.join([with_char for _ in range(100)])\n",
    "    r = get_alignment(replace_seq, seq_all, 2, -3, -5, -2)\n",
    "\n",
    "    return r"
   ]
  },
  {
   "cell_type": "code",
   "execution_count": 29,
   "metadata": {},
   "outputs": [],
   "source": [
    "from concurrent.futures import ProcessPoolExecutor\n",
    "\n",
    "def process_ppt(fasta_path, bed_path):\n",
    "    rc_counter = 0\n",
    "    found_counter = 0\n",
    "    length_list = []\n",
    "    print(os.path.basename(bed_path))\n",
    "    seq = str(SeqIO.read(fasta_path, 'fasta').seq)\n",
    "    for ele in read_bed(bed_path):\n",
    "        inner = seq[ele[1]:ele[2]]\n",
    "\n",
    "        inner_size = len(inner)\n",
    "        if inner_size > max_ppt_distance * 2:\n",
    "            left_end = max_ppt_distance\n",
    "            right_start = inner_size - max_ppt_distance\n",
    "        else:\n",
    "            half = int(inner_size / 2)\n",
    "            left_end = half\n",
    "            right_start = inner_size - half\n",
    "\n",
    "        left_seq = inner[:left_end]\n",
    "        right_seq = inner[right_start:]\n",
    "\n",
    "        left_align = find_ppt(left_seq, 'C', 'T')\n",
    "        right_align = find_ppt(right_seq, 'G', 'A')\n",
    "\n",
    "        is_left = left_align[0] >= min_ppt_size\n",
    "        is_right = right_align[0] >= min_ppt_size\n",
    "\n",
    "        if is_left and not is_right:\n",
    "            rc_counter += 1\n",
    "\n",
    "        if is_right or is_left:\n",
    "            found_counter += 1\n",
    "\n",
    "        length_list.append(max(left_align[0], right_align[0]))\n",
    "\n",
    "    return rc_counter, found_counter, length_list"
   ]
  },
  {
   "cell_type": "code",
   "execution_count": 30,
   "metadata": {},
   "outputs": [
    {
     "name": "stdout",
     "output_type": "stream",
     "text": [
      "Glycine_max_chr4.bedGlycine_max_chr5.bedGlycine_max_chr8.bedGlycine_max_chr1.bedGlycine_max_chr7.bedGlycine_max_chr2.bedGlycine_max_chr9.bedGlycine_max_chr3.bedGlycine_max_chr11.bedGlycine_max_chr12.bedGlycine_max_chr6.bedGlycine_max_chr10.bedGlycine_max_chr15.bed\n",
      "\n",
      "Glycine_max_chr13.bedGlycine_max_chr16.bed\n",
      "\n",
      "\n",
      "\n",
      "\n",
      "\n",
      "\n",
      "\n",
      "\n",
      "\n",
      "\n",
      "Glycine_max_chr14.bed\n",
      "\n",
      "\n",
      "Glycine_max_chr17.bed\n",
      "Glycine_max_chr18.bed\n",
      "Glycine_max_chr19.bed\n",
      "Glycine_max_chr20.bed\n",
      "Oryza_sativa_chr1.bed\n",
      "Oryza_sativa_chr2.bed\n",
      "Oryza_sativa_chr3.bed\n",
      "Oryza_sativa_chr4.bed\n",
      "Oryza_sativa_chr5.bed\n",
      "Oryza_sativa_chr6.bed\n",
      "Oryza_sativa_chr7.bed\n",
      "Oryza_sativa_chr8.bed\n",
      "Oryza_sativa_chr9.bed\n",
      "Oryza_sativa_chr10.bed\n",
      "Oryza_sativa_chr11.bed\n",
      "Oryza_sativa_chr12.bed\n",
      "Sorghum_bicolor_chr1.bed\n",
      "Sorghum_bicolor_chr2.bed\n",
      "Sorghum_bicolor_chr3.bed\n",
      "Sorghum_bicolor_chr4.bed\n",
      "Sorghum_bicolor_chr5.bed\n",
      "Sorghum_bicolor_chr6.bed\n",
      "Sorghum_bicolor_chr7.bed\n",
      "Sorghum_bicolor_chr8.bed\n",
      "Sorghum_bicolor_chr9.bed\n",
      "Sorghum_bicolor_chr10.bed\n",
      "TAIR10_chr1.bed\n",
      "TAIR10_chr2.bed\n",
      "TAIR10_chr3.bed\n",
      "TAIR10_chr4.bed\n",
      "TAIR10_chr5.bed\n"
     ]
    }
   ],
   "source": [
    "with ProcessPoolExecutor() as executor:\n",
    "    results = list(executor.map(process_ppt, fasta_list, bed_list))\n",
    "\n",
    "rc_counter = 0\n",
    "found_counter = 0\n",
    "length_list = []\n",
    "for result in results:\n",
    "    rc_counter += result[0]\n",
    "    found_counter += result[1]\n",
    "    length_list.extend(result[2])"
   ]
  },
  {
   "cell_type": "code",
   "execution_count": 31,
   "metadata": {},
   "outputs": [
    {
     "data": {
      "text/plain": [
       "735"
      ]
     },
     "execution_count": 31,
     "metadata": {},
     "output_type": "execute_result"
    }
   ],
   "source": [
    "rc_counter"
   ]
  },
  {
   "cell_type": "code",
   "execution_count": 32,
   "metadata": {},
   "outputs": [
    {
     "name": "stdout",
     "output_type": "stream",
     "text": [
      "Mean: 59.26119729080184\n",
      "Median 53.0\n",
      "STD: 28.43045316633688\n",
      "Max: 129\n",
      "Min: 7\n"
     ]
    }
   ],
   "source": [
    "print(\"Mean:\", stat.mean(length_list))\n",
    "print(\"Median\", stat.median(length_list))\n",
    "print(\"STD:\", stat.stdev(length_list))\n",
    "print(\"Max:\", max(length_list))\n",
    "print(\"Min:\", min(length_list))"
   ]
  },
  {
   "cell_type": "code",
   "execution_count": 33,
   "metadata": {},
   "outputs": [
    {
     "data": {
      "text/plain": [
       "9133"
      ]
     },
     "execution_count": 33,
     "metadata": {},
     "output_type": "execute_result"
    }
   ],
   "source": [
    "found_counter"
   ]
  },
  {
   "cell_type": "code",
   "execution_count": 35,
   "metadata": {},
   "outputs": [
    {
     "name": "stdout",
     "output_type": "stream",
     "text": [
      "9154\n"
     ]
    }
   ],
   "source": [
    "total = 0\n",
    "for bed_path in bed_list:\n",
    "    total += len(read_bed(bed_path))\n",
    "print(total)"
   ]
  },
  {
   "cell_type": "markdown",
   "metadata": {},
   "source": [
    "Out of 9154\n",
    "\n",
    "With 400 and 10: Found 9139\n",
    "\n",
    "With 400 and 11: Found 9139\n",
    "\n",
    "With 400 and 12: Found 9133\n",
    "\n",
    "With 400 and 13: Found 9103\n",
    "\n",
    "With 400 and 15: Found 8783\n",
    "\n",
    "With 400 and 20: Found 8645"
   ]
  },
  {
   "cell_type": "markdown",
   "metadata": {},
   "source": []
  }
 ],
 "metadata": {
  "kernelspec": {
   "display_name": "Python 3.6.9 64-bit",
   "language": "python",
   "name": "python3"
  },
  "language_info": {
   "codemirror_mode": {
    "name": "ipython",
    "version": 3
   },
   "file_extension": ".py",
   "mimetype": "text/x-python",
   "name": "python",
   "nbconvert_exporter": "python",
   "pygments_lexer": "ipython3",
   "version": "3.6.9"
  },
  "orig_nbformat": 4,
  "vscode": {
   "interpreter": {
    "hash": "30295c5bec572e859485b1ffa5e89b8b3e2022ef6e3e739c1ac40f143a557caf"
   }
  }
 },
 "nbformat": 4,
 "nbformat_minor": 2
}
